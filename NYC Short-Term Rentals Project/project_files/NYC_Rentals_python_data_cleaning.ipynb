{
 "cells": [
  {
   "cell_type": "code",
   "execution_count": 2,
   "id": "cbcb3c9a-d5ba-401e-8a02-74fee41b0000",
   "metadata": {},
   "outputs": [],
   "source": [
    "import numpy as np\n",
    "import pandas as pd\n",
    "import datetime as dt"
   ]
  },
  {
   "cell_type": "code",
   "execution_count": 3,
   "id": "275f040a-0b4c-4c64-b864-cde0005052ef",
   "metadata": {},
   "outputs": [],
   "source": [
    "# Step 1. Importing the data\n",
    "\n",
    "# Load airbnb_price.csv, prices\n",
    "prices = pd.read_csv(\"prices.csv\")\n",
    "\n",
    "# Load airbnb_room_type.xlsx, xls\n",
    "xls = pd.ExcelFile(\"room_types.xlsx\")\n",
    "\n",
    "# Parse the first sheet from xls, room_types\n",
    "room_types = xls.parse(0)\n",
    "\n",
    "# Load airbnb_last_review.tsv, reviews\n",
    "reviews = pd.read_csv(\"reviews.tsv\", sep=\"\\t\")"
   ]
  },
  {
   "cell_type": "code",
   "execution_count": 4,
   "id": "e0ba0998-be4b-444f-ba94-243732a61880",
   "metadata": {},
   "outputs": [],
   "source": [
    "# Step 2. Cleaning the price column\n",
    "\n",
    "# Remove whitespace and string characters from prices column\n",
    "prices[\"price\"] = prices[\"price\"].str.replace(\" dollars\", \"\")\n",
    "\n",
    "# Convert prices column to numeric datatype\n",
    "prices[\"price\"] = pd.to_numeric(prices[\"price\"])"
   ]
  },
  {
   "cell_type": "code",
   "execution_count": 16,
   "id": "96d78f36-b370-48e5-982e-59c6a3ed6c6f",
   "metadata": {},
   "outputs": [],
   "source": [
    "# Step 3. Calculating average price\n",
    "\n",
    "# Subset prices for listings costing $0, free_listings\n",
    "free_listings = prices[\"price\"] == 0\n",
    "\n",
    "# Update prices by removing all free listings from prices\n",
    "prices = prices.loc[~free_listings]\n",
    "\n",
    "# Calculate the average price, avg_price\n",
    "avg_price = round(prices[\"price\"].mean(), 2)"
   ]
  },
  {
   "cell_type": "code",
   "execution_count": 17,
   "id": "c8bf81d0-5df6-4a66-8331-38b7a77c8646",
   "metadata": {},
   "outputs": [],
   "source": [
    "# Step 4. Comparing costs to the private rental market\n",
    "\n",
    "# Add a new column to the prices DataFrame, price_per_month\n",
    "prices[\"price_per_month\"] = prices[\"price\"] * 365 / 12\n",
    "\n",
    "# Calculate average_price_per_month\n",
    "average_price_per_month = round(prices[\"price_per_month\"].mean(), 2)\n",
    "difference = round((average_price_per_month - 3100),2)"
   ]
  },
  {
   "cell_type": "code",
   "execution_count": 20,
   "id": "c1dd2193-7bc9-48c4-a0ba-6345754bf286",
   "metadata": {},
   "outputs": [],
   "source": [
    "# Step 5. Cleaning the room_type column\n",
    "\n",
    "# Convert the room_type column to lowercase\n",
    "room_types[\"room_type\"] = room_types[\"room_type\"].str.lower()\n",
    "\n",
    "# Update the room_type column to category data type\n",
    "room_types[\"room_type\"] = room_types[\"room_type\"].astype(\"category\")\n",
    "\n",
    "# Create the variable room_frequencies\n",
    "room_frequencies = room_types[\"room_type\"].value_counts()"
   ]
  },
  {
   "cell_type": "code",
   "execution_count": 21,
   "id": "521d4df4-0e4d-4fdc-a215-27be6083c17a",
   "metadata": {},
   "outputs": [],
   "source": [
    "# Step 6. What timeframe are we working with?\n",
    "\n",
    "# Change the data type of the last_review column to datetime\n",
    "reviews[\"last_review\"] = pd.to_datetime(reviews[\"last_review\"])\n",
    "\n",
    "# Create first_reviewed, the earliest review date\n",
    "first_reviewed = reviews[\"last_review\"].dt.date.min()\n",
    "\n",
    "# Create last_reviewed, the most recent review date\n",
    "last_reviewed = reviews[\"last_review\"].dt.date.max()"
   ]
  },
  {
   "cell_type": "code",
   "execution_count": 22,
   "id": "6d4d2518-9aa8-4ed8-8475-b43f8e86a6b3",
   "metadata": {},
   "outputs": [],
   "source": [
    "# Step 7. Joining the DataFrames\n",
    "\n",
    "# Merge prices and room_types to create rooms_and_prices\n",
    "rooms_and_prices = prices.merge(room_types, how=\"outer\", on=\"listing_id\")\n",
    "\n",
    "# Merge rooms_and_prices with the reviews DataFrame to create airbnb_merged\n",
    "airbnb_merged = rooms_and_prices.merge(reviews, how=\"outer\", on=\"listing_id\")\n",
    "\n",
    "# Drop missing values from airbnb_merged\n",
    "airbnb_merged.dropna(inplace=True)"
   ]
  },
  {
   "cell_type": "code",
   "execution_count": 23,
   "id": "9832a76d-d7ce-47f7-9e10-6edc01f533f2",
   "metadata": {},
   "outputs": [],
   "source": [
    "# Step 8. Analyzing listing prices by NYC borough\n",
    "\n",
    "# Extract information from the nbhood_full column and store as a new column, borough\n",
    "airbnb_merged[\"borough\"] = airbnb_merged[\"nbhood_full\"].str.partition(\",\")[0]\n",
    "\n",
    "# Group by borough and calculate summary statistics\n",
    "boroughs = airbnb_merged.groupby(\"borough\")[\"price\"].agg([\"sum\", \"mean\", \"median\", \"count\"])\n",
    "\n",
    "# Round boroughs to 2 decimal places, and sort by mean in descending order\n",
    "boroughs = boroughs.round(2).sort_values(\"mean\", ascending=False)"
   ]
  },
  {
   "cell_type": "code",
   "execution_count": 24,
   "id": "8ef1071a-ac84-4da7-955b-73b1ef80886d",
   "metadata": {},
   "outputs": [],
   "source": [
    "# Step 9. Price range by borough\n",
    "\n",
    "# Create labels for the price range, label_names\n",
    "label_names = [\"Budget\", \"Average\", \"Expensive\", \"Extravagant\"]\n",
    "\n",
    "# Create the label ranges, ranges\n",
    "ranges = [0, 69, 175, 350, np.inf]\n",
    "\n",
    "# Insert new column, price_range, into DataFrame\n",
    "airbnb_merged[\"price_range\"] = pd.cut(airbnb_merged[\"price\"], bins=ranges, labels=label_names)\n",
    "\n",
    "# Calculate occurence frequencies for each label, prices_by_borough\n",
    "prices_by_borough = airbnb_merged.groupby([\"borough\", \"price_range\"])[\"price_range\"].count()"
   ]
  },
  {
   "cell_type": "code",
   "execution_count": 26,
   "id": "bae15f62-edbe-4021-92fa-d70eecd5fafa",
   "metadata": {},
   "outputs": [],
   "source": [
    "# Step 10. Storing the final result\n",
    "\n",
    "solution = {'avg_price':avg_price,\n",
    "            'average_price_per_month': average_price_per_month,  \n",
    "            'difference':difference,          \n",
    "            'room_frequencies':room_frequencies, \n",
    "            'first_reviewed': first_reviewed,\n",
    "            'last_reviewed': last_reviewed,\n",
    "            'prices_by_borough':prices_by_borough}\n",
    "#print(solution)"
   ]
  }
 ],
 "metadata": {
  "kernelspec": {
   "display_name": "Python 3 (ipykernel)",
   "language": "python",
   "name": "python3"
  },
  "language_info": {
   "codemirror_mode": {
    "name": "ipython",
    "version": 3
   },
   "file_extension": ".py",
   "mimetype": "text/x-python",
   "name": "python",
   "nbconvert_exporter": "python",
   "pygments_lexer": "ipython3",
   "version": "3.11.4"
  }
 },
 "nbformat": 4,
 "nbformat_minor": 5
}
